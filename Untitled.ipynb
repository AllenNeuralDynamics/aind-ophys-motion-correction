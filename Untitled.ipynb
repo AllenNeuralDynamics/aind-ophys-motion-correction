{
 "cells": [
  {
   "cell_type": "code",
   "execution_count": 1,
   "id": "8d827a91-45ca-4512-91a1-900ed6aafc70",
   "metadata": {},
   "outputs": [],
   "source": [
    "import h5py as h5"
   ]
  },
  {
   "cell_type": "code",
   "execution_count": 19,
   "id": "b1b2c631-7866-4169-8a16-b7b862ebda56",
   "metadata": {},
   "outputs": [
    {
     "name": "stdout",
     "output_type": "stream",
     "text": [
      "<KeysViewHDF5 ['data', 'epoch_filenames', 'epoch_slice_location', 'lookup_table']>\n"
     ]
    }
   ],
   "source": [
    "fp = \"data/single-plane-ophys_631479_2023-03-20_12-00-00/pophys/bergamo.h5\"\n",
    "with h5.File(fp) as f:\n",
    "    data = f.keys()\n",
    "    shape = f['data'].shape\n",
    "    print(data)\n",
    "    epoch_locations = f['epoch_slice_location'][()]\n",
    "    lut = f['lookup_table'][()]"
   ]
  },
  {
   "cell_type": "code",
   "execution_count": 20,
   "id": "8a28fa39-c193-4c39-84f2-f37103027abd",
   "metadata": {},
   "outputs": [],
   "source": [
    "from pprint import pprint as pp\n",
    "import json\n",
    "lut = json.loads(lut[0])"
   ]
  },
  {
   "cell_type": "code",
   "execution_count": 21,
   "id": "f9d1f999-a7f9-4dcd-8e17-4621763c802f",
   "metadata": {},
   "outputs": [],
   "source": [
    "count = 0\n",
    "for k in lut.keys():\n",
    "    count += lut[k]['image_shape'][0]"
   ]
  },
  {
   "cell_type": "code",
   "execution_count": 23,
   "id": "9b66985e-2486-4ab1-9743-593c5557e337",
   "metadata": {},
   "outputs": [
    {
     "name": "stdout",
     "output_type": "stream",
     "text": [
      "27461\n",
      "(27461, 800, 800)\n"
     ]
    }
   ],
   "source": [
    "print(count)\n",
    "print(shape)"
   ]
  },
  {
   "cell_type": "code",
   "execution_count": null,
   "id": "be465456-416f-4273-9ddc-35d8c28a6a5e",
   "metadata": {},
   "outputs": [],
   "source": []
  }
 ],
 "metadata": {
  "kernelspec": {
   "display_name": "Python 3",
   "language": "python",
   "name": "python3"
  },
  "language_info": {
   "codemirror_mode": {
    "name": "ipython",
    "version": 3
   },
   "file_extension": ".py",
   "mimetype": "text/x-python",
   "name": "python",
   "nbconvert_exporter": "python",
   "pygments_lexer": "ipython3",
   "version": "3.9.12"
  }
 },
 "nbformat": 4,
 "nbformat_minor": 5
}
